{
 "cells": [
  {
   "cell_type": "markdown",
   "id": "0f030243-e7ac-4b8d-a733-7cf38d0b4446",
   "metadata": {},
   "source": [
    "# Data Science Tools and Ecosystem"
   ]
  },
  {
   "cell_type": "markdown",
   "id": "dcb4a10a-3da7-4634-83aa-26f41bdbd49e",
   "metadata": {},
   "source": [
    "In this notebook, Data Science Tools and Ecosystem are summarized."
   ]
  },
  {
   "cell_type": "markdown",
   "id": "c2952dde-9a73-4b92-8a67-8e743a00e4f7",
   "metadata": {},
   "source": [
    "**Objectives:**\n",
    "* Create markdown cell with title of the notebook\n",
    "* List popular languages for Data Science\n",
    "* List popular libraries for Data Science\n",
    "* Create a code cell to perform arithematic operations."
   ]
  },
  {
   "cell_type": "markdown",
   "id": "64ca57ba-47d9-460c-9b4a-ccec0a7f1dc1",
   "metadata": {},
   "source": [
    "Some of the popular languages that Data Scientists use are:\n",
    "1. Python\n",
    "2. R\n",
    "3. Julia\n",
    "4. Scala\n",
    "5. Java\n",
    "6. JavaScript"
   ]
  },
  {
   "cell_type": "markdown",
   "id": "1077612d-f214-4255-a4a7-c9f8966bc3a7",
   "metadata": {},
   "source": [
    "Some of the commonly used libraries used by Data Scientists include:\n",
    "1. Pandas\n",
    "2. Numpy\n",
    "3. ggplot\n",
    "4. Scipy\n",
    "5. Seaborn"
   ]
  },
  {
   "cell_type": "markdown",
   "id": "8619050e-9e8d-4547-81fc-785f8546cb17",
   "metadata": {},
   "source": [
    "|------------------|\n",
    "|Data Science Tools|\n",
    "|Jupyter Notebooks|\n",
    "|RStudio|\n",
    "|Apache Spark|\n",
    "|TensorFlow|"
   ]
  },
  {
   "cell_type": "markdown",
   "id": "84db4bb9-5d96-49d6-af03-44d4a90f89f9",
   "metadata": {},
   "source": [
    "Below are a few examples of evaluating arithmetic expressions in Python"
   ]
  },
  {
   "cell_type": "code",
   "execution_count": 1,
   "id": "9dcde8d3-0242-420c-a276-45a36041ad8f",
   "metadata": {},
   "outputs": [
    {
     "data": {
      "text/plain": [
       "17"
      ]
     },
     "execution_count": 1,
     "metadata": {},
     "output_type": "execute_result"
    }
   ],
   "source": [
    "# This a simple arithmetic expression to mutiply then add integers\n",
    "(3*4)+5"
   ]
  },
  {
   "cell_type": "code",
   "execution_count": 2,
   "id": "062b657e-4459-4ed1-b20d-1dbb1239c0b9",
   "metadata": {},
   "outputs": [
    {
     "data": {
      "text/plain": [
       "3.3333333333333335"
      ]
     },
     "execution_count": 2,
     "metadata": {},
     "output_type": "execute_result"
    }
   ],
   "source": [
    "# This will convert 200 minutes to hours by diving by 60\n",
    "200/60"
   ]
  },
  {
   "cell_type": "markdown",
   "id": "a763f276-beb9-45c5-82b6-41510852994b",
   "metadata": {},
   "source": [
    "## Author\n",
    "Dawood S A Siddiqui"
   ]
  }
 ],
 "metadata": {
  "kernelspec": {
   "display_name": "Python 3 (ipykernel)",
   "language": "python",
   "name": "python3"
  },
  "language_info": {
   "codemirror_mode": {
    "name": "ipython",
    "version": 3
   },
   "file_extension": ".py",
   "mimetype": "text/x-python",
   "name": "python",
   "nbconvert_exporter": "python",
   "pygments_lexer": "ipython3",
   "version": "3.11.7"
  }
 },
 "nbformat": 4,
 "nbformat_minor": 5
}
